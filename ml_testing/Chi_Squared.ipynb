{
 "cells": [
  {
   "cell_type": "code",
   "execution_count": 66,
   "metadata": {},
   "outputs": [
    {
     "name": "stdout",
     "output_type": "stream",
     "text": [
      "          Specs      Score\n",
      "5     adventure  75.528919\n",
      "4        action  73.319136\n",
      "10       sci-fi  48.434810\n",
      "7       fantasy  45.800158\n",
      "15        sport  40.592757\n",
      "19  documentary  39.255161\n",
      "3       romance  33.792407\n",
      "8        family  30.908912\n",
      "16      history  30.649794\n",
      "9       mystery  29.119958\n"
     ]
    }
   ],
   "source": [
    "import pandas as pd\n",
    "import numpy as np\n",
    "from sklearn.feature_selection import SelectKBest\n",
    "from sklearn.feature_selection import chi2\n",
    "data = pd.read_csv(\"mergedData.csv\")\n",
    "data = data.dropna()\n",
    "\n",
    "selected_features1 = data.iloc[:,12:21]\n",
    "selected_features2 = data.iloc[:,22:47]\n",
    "selected_features = pd.merge(selected_features1, selected_features2, left_index=True, right_index=True)\n",
    "#print(selected_features.columns)\n",
    "\n",
    "data = selected_features\n",
    "\n",
    "X = data.iloc[:,12:47]  #independent columns\n",
    "y = data.iloc[:,8] # box office\n",
    "\n",
    "# X.to_csv(\"test.csv\")\n",
    "# apply SelectKBest class to extract top 10 best features\n",
    "bestfeatures = SelectKBest(score_func=chi2, k=10)\n",
    "fit = bestfeatures.fit(X,y)\n",
    "dfscores = pd.DataFrame(fit.scores_)\n",
    "dfcolumns = pd.DataFrame(X.columns)\n",
    "#concat two dataframes for better visualization \n",
    "featureScores = pd.concat([dfcolumns,dfscores],axis=1)\n",
    "featureScores.columns = ['Specs','Score']  #naming the dataframe columns\n",
    "print(featureScores.nlargest(10,'Score'))  #print 10 best features"
   ]
  },
  {
   "cell_type": "code",
   "execution_count": 69,
   "metadata": {
    "scrolled": true
   },
   "outputs": [
    {
     "name": "stdout",
     "output_type": "stream",
     "text": [
      "[0.0811907  0.09222601 0.08885296 0.04432806 0.07095689 0.04767711\n",
      " 0.05431148 0.07038507 0.04036664 0.06632464 0.04361099 0.03232649\n",
      " 0.04237623 0.03576569 0.04707669 0.01991659 0.03289035 0.02437521\n",
      " 0.02837442 0.00682945 0.02907564 0.00076271]\n"
     ]
    },
    {
     "name": "stderr",
     "output_type": "stream",
     "text": [
      "C:\\Users\\monol\\Anaconda3\\envs\\PythonData\\lib\\site-packages\\sklearn\\ensemble\\forest.py:245: FutureWarning: The default value of n_estimators will change from 10 in version 0.20 to 100 in 0.22.\n",
      "  \"10 in version 0.20 to 100 in 0.22.\", FutureWarning)\n"
     ]
    },
    {
     "data": {
      "image/png": "[encoded data removed]",
      "text/plain": [
       "<Figure size 432x288 with 1 Axes>"
      ]
     },
     "metadata": {
      "needs_background": "light"
     },
     "output_type": "display_data"
    }
   ],
   "source": [
    "\n",
    "data = pd.read_csv(\"mergedData.csv\")\n",
    "data = data.dropna()\n",
    "\n",
    "selected_features1 = data.iloc[:,12:21]\n",
    "selected_features2 = data.iloc[:,22:47]\n",
    "selected_features = pd.merge(selected_features1, selected_features2, left_index=True, right_index=True)\n",
    "#print(selected_features.columns)\n",
    "\n",
    "data = selected_features\n",
    "\n",
    "X = data.iloc[:,12:47]  #independent columns\n",
    "y = data.iloc[:,8] # box office\n",
    "\n",
    "from sklearn.ensemble import ExtraTreesClassifier\n",
    "# %matplotlib inline\n",
    "import matplotlib.pyplot as plt\n",
    "model = ExtraTreesClassifier()\n",
    "model.fit(X,y)\n",
    "print(model.feature_importances_) #use inbuilt class feature_importances of tree based classifiers\n",
    "#plot graph of feature importances for better visualization\n",
    "feat_importances = pd.Series(model.feature_importances_, index=X.columns)\n",
    "feat_importances.nlargest(10).plot(kind='barh')\n",
    "plt.show()"
   ]
  },
  {
   "cell_type": "code",
   "execution_count": null,
   "metadata": {},
   "outputs": [],
   "source": []
  }
 ],
 "metadata": {
  "kernelspec": {
   "display_name": "Python 3",
   "language": "python",
   "name": "python3"
  },
  "language_info": {
   "codemirror_mode": {
    "name": "ipython",
    "version": 3
   },
   "file_extension": ".py",
   "mimetype": "text/x-python",
   "name": "python",
   "nbconvert_exporter": "python",
   "pygments_lexer": "ipython3",
   "version": "3.6.8"
  }
 },
 "nbformat": 4,
 "nbformat_minor": 2
}
