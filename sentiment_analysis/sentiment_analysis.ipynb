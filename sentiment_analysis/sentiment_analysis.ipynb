{
 "cells": [
  {
   "cell_type": "code",
   "execution_count": 20,
   "metadata": {},
   "outputs": [],
   "source": [
    "# import dependencies\n",
    "import requests\n",
    "import pandas as pd\n",
    "import numpy as np\n",
    "import matplotlib.pyplot as plt\n",
    "from pprint import pprint\n",
    "\n",
    "#from news_api import api_key\n",
    "#from x_api import x_api_key\n",
    "\n",
    "from vaderSentiment.vaderSentiment import SentimentIntensityAnalyzer\n",
    "analyser = SentimentIntensityAnalyzer()\n",
    "\n",
    "# Rather than rewriting code multiple times, we've created a function to call the news API and output data into a dataframe\n",
    "# preliminary work is in older notebook\n",
    "#from news_pull import sentiment_scores\n",
    "#from news_pull import news_pull"
   ]
  },
  {
   "cell_type": "code",
   "execution_count": 21,
   "metadata": {},
   "outputs": [],
   "source": [
    "def sentiment_scores(sentence):\n",
    "    score = analyser.polarity_scores(sentence)\n",
    "    return score"
   ]
  },
  {
   "cell_type": "code",
   "execution_count": 22,
   "metadata": {},
   "outputs": [
    {
     "data": {
      "text/plain": [
       "{'neg': 0.0, 'neu': 0.423, 'pos': 0.577, 'compound': 0.6249}"
      ]
     },
     "execution_count": 22,
     "metadata": {},
     "output_type": "execute_result"
    }
   ],
   "source": [
    "#test vader sentiment analysis function\n",
    "sentiment_scores(\"ice cream is great\")"
   ]
  },
  {
   "cell_type": "code",
   "execution_count": 23,
   "metadata": {},
   "outputs": [],
   "source": [
    "#load in file of all headlines\n",
    "\n",
    "#data from 2005-2015\n",
    "present_df = pd.read_csv(\"NY_times_headlines.csv\", encoding=\"ISO-8859-1\")\n",
    "#present_df.head()\n",
    "\n",
    "#data from 1995-2014\n",
    "nineties_df = pd.read_csv(\"NYTimesNewsData_1995_2005.csv\", encoding=\"ISO-8859-1\")\n",
    "\n",
    "#nineties_df.head()\n"
   ]
  },
  {
   "cell_type": "code",
   "execution_count": 24,
   "metadata": {},
   "outputs": [
    {
     "data": {
      "text/plain": [
       "abstract    610839\n",
       "headline    610840\n",
       "pub_date    610840\n",
       "dtype: int64"
      ]
     },
     "execution_count": 24,
     "metadata": {},
     "output_type": "execute_result"
    }
   ],
   "source": [
    "#clean up blanks\n",
    "#present_df.count()\n",
    "nineties_df.count()\n",
    "\n",
    "#drop rows with blanks\n",
    "#present_df.dropna()"
   ]
  },
  {
   "cell_type": "code",
   "execution_count": 25,
   "metadata": {},
   "outputs": [],
   "source": [
    "clean_present_df = present_df.dropna()\n",
    "clean_nineties_df = nineties_df.dropna()"
   ]
  },
  {
   "cell_type": "code",
   "execution_count": 26,
   "metadata": {},
   "outputs": [
    {
     "data": {
      "text/plain": [
       "abstract    610839\n",
       "headline    610839\n",
       "pub_date    610839\n",
       "dtype: int64"
      ]
     },
     "execution_count": 26,
     "metadata": {},
     "output_type": "execute_result"
    }
   ],
   "source": [
    "#clean_present_df.count()\n",
    "clean_nineties_df.count()"
   ]
  },
  {
   "cell_type": "code",
   "execution_count": null,
   "metadata": {},
   "outputs": [
    {
     "name": "stderr",
     "output_type": "stream",
     "text": [
      "C:\\Users\\jak12\\Anaconda3\\lib\\site-packages\\pandas\\core\\indexing.py:362: SettingWithCopyWarning: \n",
      "A value is trying to be set on a copy of a slice from a DataFrame.\n",
      "Try using .loc[row_indexer,col_indexer] = value instead\n",
      "\n",
      "See the caveats in the documentation: http://pandas.pydata.org/pandas-docs/stable/indexing.html#indexing-view-versus-copy\n",
      "  self.obj[key] = _infer_fill_value(value)\n"
     ]
    }
   ],
   "source": [
    "# add column in newsFrame for sentiment score\n",
    "present_df['sentiment_score'] = ''\n",
    "present_df['sentiment'] = ''\n",
    "\n",
    "\n",
    "#loop through all article descriptions and get sentiment\n",
    "\n",
    "for i, row in clean_present_df.iterrows():\n",
    "        sentiment_score = float(sentiment_scores(row[0])['compound']) # take sentiment of description of each article\n",
    "        if(sentiment_score >= 0.05):\n",
    "            clean_present_df.loc[i,'sentiment'] = 'positive'\n",
    "            #print(row)\n",
    "        elif(sentiment_score <= 0.05):\n",
    "            clean_present_df.loc[i,'sentiment'] = 'negative'\n",
    "            #print(row)\n",
    "        else:\n",
    "            clean_present_df.loc[i,'sentiment'] = 'neutral'\n",
    "            #print(row)\n",
    "        clean_present_df.loc[i,'sentiment_score'] = sentiment_score\n",
    "        if i > 100000:\n",
    "            break\n",
    "\n",
    "clean_present_df.tail(10)\n",
    "\n",
    "\n"
   ]
  },
  {
   "cell_type": "code",
   "execution_count": null,
   "metadata": {},
   "outputs": [],
   "source": [
    "# add column in newsFrame for sentiment score\n",
    "nineties_df['sentiment_score'] = ''\n",
    "nineties_df['sentiment'] = ''\n",
    "\n"
   ]
  },
  {
   "cell_type": "code",
   "execution_count": null,
   "metadata": {},
   "outputs": [],
   "source": [
    "\n",
    "for i, row in clean_nineties_df.iterrows():\n",
    "        sentiment_score = float(sentiment_scores(row[0])['compound']) # take sentiment of description of each article\n",
    "        if(sentiment_score >= 0.05):\n",
    "            clean_nineties_df.loc[i,'sentiment'] = 'positive'\n",
    "        elif(sentiment_score <= 0.05):\n",
    "            clean_nineties_df.loc[i,'sentiment'] = 'negative'\n",
    "        else:\n",
    "            clean_nineties_df.loc[i,'sentiment'] = 'neutral'\n",
    "        clean_nineties_df.loc[i,'sentiment_score'] = sentiment_score\n",
    "        \n",
    "clean_nineties_df.head(10)\n"
   ]
  },
  {
   "cell_type": "code",
   "execution_count": null,
   "metadata": {},
   "outputs": [],
   "source": [
    "#union_df = #\n",
    "\n",
    "#get the average sentiment by Year\n",
    "#year_sentiment_df = union_df.groupby(['pub_date']).mean()"
   ]
  },
  {
   "cell_type": "code",
   "execution_count": 69,
   "metadata": {},
   "outputs": [],
   "source": [
    "#present_df.to_csv(\"Output/sentiment_results.csv\", index=False, header=True)"
   ]
  },
  {
   "cell_type": "code",
   "execution_count": null,
   "metadata": {},
   "outputs": [],
   "source": [
    "#nineties_df.to_csv(\"Output/sentiment_90s.csv\", index=False, header=True)"
   ]
  },
  {
   "cell_type": "code",
   "execution_count": null,
   "metadata": {},
   "outputs": [],
   "source": [
    "#year_sentiment_df.to_csv(\"Output/yearly_sentiment.csv\", index=False, header=True)"
   ]
  }
 ],
 "metadata": {
  "kernelspec": {
   "display_name": "Python 3",
   "language": "python",
   "name": "python3"
  },
  "language_info": {
   "codemirror_mode": {
    "name": "ipython",
    "version": 3
   },
   "file_extension": ".py",
   "mimetype": "text/x-python",
   "name": "python",
   "nbconvert_exporter": "python",
   "pygments_lexer": "ipython3",
   "version": "3.7.3"
  }
 },
 "nbformat": 4,
 "nbformat_minor": 2
}
